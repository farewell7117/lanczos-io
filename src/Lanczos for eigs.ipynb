{
 "cells": [
  {
   "cell_type": "code",
   "execution_count": 64,
   "metadata": {},
   "outputs": [],
   "source": [
    "import numpy as np\n",
    "from scipy import sparse\n",
    "import networkx as nx\n",
    "import time\n",
    "import matplotlib.pyplot as plt\n",
    "%matplotlib inline"
   ]
  },
  {
   "cell_type": "markdown",
   "metadata": {},
   "source": [
    "#### The Lanczos algorithm for searching for eigenvalues"
   ]
  },
  {
   "cell_type": "code",
   "execution_count": 109,
   "metadata": {},
   "outputs": [],
   "source": [
    "# Amat - considered matrix\n",
    "# vvec - first approximation\n",
    "# tilv - beta from the lanczos algorithm\n",
    "def lanczos_step(Amat, Vmat, Tmat, tilv):\n",
    "    eta = np.linalg.norm(tilv)\n",
    "    vvec = tilv/eta\n",
    "    alpha = np.linalg.norm(vvec.T.dot(Amat.dot(vvec)))\n",
    "    tilv = Amat.dot(vvec) - alpha*vvec - np.expand_dims(eta*Vmat[:,-1], axis = 1)\n",
    "    \n",
    "    # orthogonalization\n",
    "    for i in range(Vmat.shape[1]):\n",
    "        tilv -= (tilv.flatten().dot(Vmat[:,i].flatten())) * np.expand_dims(Vmat[:,i], axis = 1)\n",
    "    \n",
    "    Vmat = np.concatenate((Vmat, vvec), axis = 1)\n",
    "    \n",
    "    new_diag__1, new_diag_0, new_diag_1 = [],[],[]\n",
    "    if (Tmat.shape[0] != 1):\n",
    "        new_diag__1 = np.append(np.append(Tmat.diagonal(-1), eta), 0)\n",
    "        new_diag_0 = np.append(Tmat.diagonal(0), alpha)\n",
    "        new_diag_1 = np.insert(np.append(Tmat.diagonal(1), eta), 0, 0)\n",
    "    else:\n",
    "        new_diag__1 = np.array([eta,0])\n",
    "        new_diag_0 = np.append(Tmat.diagonal(0), alpha)\n",
    "        new_diag_1 = np.array([0,eta])\n",
    "    \n",
    "    offsets = np.array([-1, 0, 1])\n",
    "    data = np.array([\n",
    "        new_diag__1,\n",
    "        new_diag_0,\n",
    "        new_diag_1\n",
    "    ])\n",
    "\n",
    "    t_size = Tmat.shape[0] + 1\n",
    "    Tmat = sparse.dia_matrix((data, offsets), shape = (t_size, t_size))\n",
    "    \n",
    "    return Tmat, Vmat, tilv"
   ]
  },
  {
   "cell_type": "code",
   "execution_count": 110,
   "metadata": {},
   "outputs": [],
   "source": [
    "def lanczos_algorithm(Amat, nsteps = 2):\n",
    "    vvec = np.random.rand(Amat.shape[0]) # first approximation is random\n",
    "    vvec /= np.linalg.norm(vvec)\n",
    "    Vmat = np.expand_dims(vvec, axis = 1)\n",
    "    \n",
    "    alpha = np.linalg.norm(Vmat[:,-1].T.dot(Amat.dot(Vmat[:,-1])))\n",
    "    Tmat = sparse.dia_matrix([alpha])\n",
    "    tilv = np.expand_dims(Amat.dot(Vmat[:,-1]) - alpha*Vmat[:,-1], axis = 1)\n",
    "    \n",
    "    for i in range(nsteps):\n",
    "        Tmat, Vmat, tilv = lanczos_step(Amat, Vmat, Tmat, tilv) \n",
    "    return Tmat, Vmat"
   ]
  },
  {
   "cell_type": "markdown",
   "metadata": {},
   "source": [
    "#### First (very small) test Laplacian matrix"
   ]
  },
  {
   "cell_type": "code",
   "execution_count": 111,
   "metadata": {},
   "outputs": [],
   "source": [
    "size = 10\n",
    "L = np.array([  [2., -1, -1, 0, 0, 0, 0, 0, 0, 0],\n",
    "                [-1, 2, -1, 0, 0, 0, 0, 0, 0, 0],\n",
    "                [-1, -1, 3, -1, 0, 0, 0, 0, 0, 0],\n",
    "                [0, 0, -1, 4, -1, 0, -1, 0, 0, -1],\n",
    "                [0, 0, 0, -1, 4, -1, -1, -1, 0, 0],\n",
    "                [0, 0, 0, 0, -1, 3, -1, -1, 0, 0],\n",
    "                [0, 0, 0, -1, -1, -1, 6, -1, -1, -1],\n",
    "                [0, 0, 0, 0, -1, -1, -1, 4, 0, -1],\n",
    "                [0, 0, 0, 0, 0, 0, -1, 0, 2, -1],\n",
    "                [0, 0, 0, -1, 0, 0, -1, -1, -1, 4]  ])\n",
    "\n",
    "L = sparse.csr_matrix(L)"
   ]
  },
  {
   "cell_type": "code",
   "execution_count": 112,
   "metadata": {},
   "outputs": [],
   "source": [
    "Tmat, Vmat = lanczos_algorithm(L, size-1)\n",
    "evals_of_T, evecs_of_T = np.linalg.eig(Tmat.todense())\n",
    "evecs_of_T = np.array(evecs_of_T)"
   ]
  },
  {
   "cell_type": "code",
   "execution_count": 113,
   "metadata": {},
   "outputs": [
    {
     "name": "stdout",
     "output_type": "stream",
     "text": [
      "Eigenvalues of T:\n",
      " [  9.99200722e-16   3.06851215e-01   1.72406597e+00   2.81086785e+00\n",
      "   3.00000000e+00   3.78467863e+00   4.33735483e+00   4.84264371e+00\n",
      "   6.14394237e+00   7.04959542e+00]\n"
     ]
    }
   ],
   "source": [
    "evals_of_T, evecs_of_T = zip(*sorted(zip(evals_of_T, evecs_of_T)))\n",
    "evals_of_T = np.array(evals_of_T)\n",
    "evecs_of_T = np.array(evecs_of_T)\n",
    "print(\"Eigenvalues of T:\\n\", evals_of_T)"
   ]
  },
  {
   "cell_type": "code",
   "execution_count": 114,
   "metadata": {},
   "outputs": [
    {
     "name": "stdout",
     "output_type": "stream",
     "text": [
      "Eigenvalues of L:\n",
      " [ -1.11022302e-16   3.06851215e-01   1.72406597e+00   2.81086785e+00\n",
      "   3.00000000e+00   3.78467863e+00   4.33735483e+00   4.84264371e+00\n",
      "   6.14394237e+00   7.04959542e+00]\n"
     ]
    }
   ],
   "source": [
    "evals_of_L, evecs_of_L = np.linalg.eig(L.todense())\n",
    "evals_of_L.sort()\n",
    "print(\"Eigenvalues of L:\\n\", evals_of_L)"
   ]
  },
  {
   "cell_type": "code",
   "execution_count": 115,
   "metadata": {},
   "outputs": [
    {
     "name": "stdout",
     "output_type": "stream",
     "text": [
      "Differences between the eigenvalues of T and L\n",
      " [  1.11022302e-15   4.44089210e-16  -3.99680289e-15   4.44089210e-15\n",
      "   2.22044605e-15   2.66453526e-15  -8.88178420e-16  -1.77635684e-15\n",
      "  -1.15463195e-14   2.66453526e-15]\n"
     ]
    }
   ],
   "source": [
    "print(\"Differences between the eigenvalues of T and L\\n\", evals_of_T - evals_of_L)"
   ]
  },
  {
   "cell_type": "markdown",
   "metadata": {},
   "source": [
    "Eigenvalues were calculated correctly"
   ]
  },
  {
   "cell_type": "markdown",
   "metadata": {},
   "source": [
    "#### After the small experiment of eigenvalues correctness, let's compare time with the Incremental-IO method"
   ]
  },
  {
   "cell_type": "markdown",
   "metadata": {},
   "source": [
    "##### NEXT block is a copy of the Incremental-IO code and Lanczos algorithms with time collection modifications"
   ]
  },
  {
   "cell_type": "code",
   "execution_count": 126,
   "metadata": {},
   "outputs": [],
   "source": [
    "def lanczos_measure_time(Amat, cnt_required_evals):\n",
    "    vvec = np.random.rand(Amat.shape[0]) # first approximation is random\n",
    "    vvec /= np.linalg.norm(vvec)\n",
    "    Vmat = np.expand_dims(vvec, axis = 1)\n",
    "    \n",
    "    alpha = np.linalg.norm(Vmat[:,-1].T.dot(Amat.dot(Vmat[:,-1])))\n",
    "    Tmat = sparse.dia_matrix([alpha])\n",
    "    tilv = np.expand_dims(Amat.dot(Vmat[:,-1]) - alpha*Vmat[:,-1], axis = 1)\n",
    "    \n",
    "    times = []\n",
    "    # *2 (below), because lanczos method compute eigenvalues at both edges of spectrum\n",
    "    for i in range(cnt_required_evals*3):\n",
    "        start = time.time()\n",
    "        Tmat, Vmat, tilv = lanczos_step(Amat, Vmat, Tmat, tilv)\n",
    "        if i%3 == 1:\n",
    "            end = time.time()\n",
    "            times.append(end - start)\n",
    "            if i%20 == 1:\n",
    "                print(i//2, \"done (lanczos)\")\n",
    "    \n",
    "    return times\n",
    "\n",
    "def V_Sigma_V_x(V_T, Sigma_diag, x, s, use_normalized_L): # V^T * Sigma * V * vec_x\n",
    "    if use_normalized_L:\n",
    "        Sigma_diag = 2.0 - Sigma_diag\n",
    "    else:\n",
    "        Sigma_diag = s - Sigma_diag\n",
    "    return V_T.dot( np.multiply(Sigma_diag, (V_T.T).dot(x) ) )\n",
    "def c_Ssq_E_Ssq_x(s, n, x, use_normalized_L, S_sqrt = None): # c(s,n) * S_squared * eye * S_squared * vec_x\n",
    "    if use_normalized_L:\n",
    "        return 2.0/s * S_sqrt * np.repeat((S_sqrt * x).sum(), len(x))\n",
    "    return np.repeat(s/n * x.sum(), len(x))\n",
    "def c_x(s, x, use_normalized_L):\n",
    "    if use_normalized_L:\n",
    "        return 2.0 * x\n",
    "    else:\n",
    "        return s * x\n",
    "\n",
    "def Incremental_IO_step(W, L, s, use_normalized_L, S_sqrt, cnt_V, evals, evecs):\n",
    "    L_perturbed = sparse.linalg.LinearOperator(W.shape, matvec=lambda x, W=W, V=evecs, evals=evals, s=s, n=cnt_V,\n",
    "                                               is_norm=use_normalized_L, S_sqrt=S_sqrt\n",
    "                                               : L.dot(x) + V_Sigma_V_x(V, evals, x, s, is_norm) \n",
    "                                               + c_Ssq_E_Ssq_x(s, n, x, is_norm, S_sqrt) \n",
    "                                               - c_x(s, x ,is_norm))\n",
    "    lead_eval, lead_evec = sparse.linalg.eigsh(L_perturbed, k=1, which='LM')\n",
    "    if use_normalized_L:\n",
    "        evals = np.concatenate((evals, lead_eval + 2.0))\n",
    "    else:\n",
    "        evals = np.concatenate((evals, lead_eval + s))\n",
    "    evecs = np.concatenate((evecs, lead_evec), axis=1)\n",
    "    return evals, evecs\n",
    "\n",
    "def incremental_IO_measure_time(W, L, K, use_normalized_L = False):\n",
    "        \n",
    "    cnt_V = W.shape[0]\n",
    "    evals = np.array([0.0])\n",
    "    evecs = np.array([np.zeros(cnt_V, dtype = np.float64)]).T\n",
    "    current_cluster_cnt, s, S_sqrt = 1, W.sum(), None\n",
    "    \n",
    "    times = []\n",
    "    while current_cluster_cnt <= K:\n",
    "        start = time.time()\n",
    "        evals, evecs = Incremental_IO_step(W, L, s, use_normalized_L, S_sqrt, cnt_V, evals, evecs)\n",
    "        end = time.time()\n",
    "        times.append(end - start)\n",
    "        current_cluster_cnt += 1\n",
    "        if current_cluster_cnt % 10 == 0:\n",
    "            print(current_cluster_cnt, \"done (IO)\")\n",
    "    \n",
    "    return times"
   ]
  },
  {
   "cell_type": "code",
   "execution_count": 161,
   "metadata": {},
   "outputs": [],
   "source": [
    "def incrementalIO_vs_Lanczos(Adj, cnt_required_evals):\n",
    "    ## incremental-io - preparation step\n",
    "    W = Adj.astype(np.float64, copy = True)\n",
    "    inv_S_sqrt = np.ravel(1.0/np.sqrt(W.sum(0)))\n",
    "    W = W.multiply(inv_S_sqrt).multiply(inv_S_sqrt.reshape(len(inv_S_sqrt), 1))\n",
    "    L = sparse.diags(np.ravel(W.sum(0))).tocsr() - W\n",
    "    ## incremental-io - measurment step\n",
    "    times_IO = incremental_IO_measure_time(W, L, cnt_required_evals)\n",
    "    \n",
    "    ## lanczos - preparation stap\n",
    "    L = sparse.diags(np.ravel(Adj.sum(0))).tocsr() - Adj\n",
    "    ## lanczos - measurment step\n",
    "    times_lanczos = lanczos_measure_time(L, cnt_required_evals)\n",
    "    return times_IO, times_lanczos\n",
    "    "
   ]
  },
  {
   "cell_type": "code",
   "execution_count": 162,
   "metadata": {},
   "outputs": [
    {
     "name": "stdout",
     "output_type": "stream",
     "text": [
      "Number of vertices = 4941\n",
      "Number of edges = 6594\n"
     ]
    }
   ],
   "source": [
    "kn = nx.read_gml('power.gml')\n",
    "cnt_V = kn.number_of_nodes()\n",
    "print(\"Number of vertices = {}\".format(kn.number_of_nodes()))\n",
    "print(\"Number of edges = {}\".format(kn.number_of_edges()))\n",
    "\n",
    "adj_matrix = nx.adjacency_matrix(kn) # in CSR format\n",
    "adj_matrix = adj_matrix.astype(np.float64, copy = True)"
   ]
  },
  {
   "cell_type": "code",
   "execution_count": null,
   "metadata": {},
   "outputs": [],
   "source": [
    "times_incremental_io, times_lanczos = incrementalIO_vs_Lanczos(adj_matrix, 40)"
   ]
  },
  {
   "cell_type": "code",
   "execution_count": 165,
   "metadata": {},
   "outputs": [
    {
     "data": {
      "image/png": "[encoded data removed]",
      "text/plain": [
       "<Figure size 432x288 with 1 Axes>"
      ]
     },
     "metadata": {},
     "output_type": "display_data"
    }
   ],
   "source": [
    "plt.title(\"Cinvergence with iterations, log-scale\")\n",
    "plot = plt.semilogy(np.cumsum(times_incremental_io), label = 'Incremental-IO')\n",
    "plot = plt.semilogy(np.cumsum(times_lanczos), label = 'Lanczos')\n",
    "plt.xlabel(\"Iteration\")\n",
    "plt.ylabel(\"Time, log-scale\")\n",
    "plt.legend()\n",
    "plt.show()"
   ]
  },
  {
   "cell_type": "markdown",
   "metadata": {},
   "source": [
    "#### Iterations of the Lanczos method take LESS time"
   ]
  },
  {
   "cell_type": "code",
   "execution_count": null,
   "metadata": {},
   "outputs": [],
   "source": []
  }
 ],
 "metadata": {
  "kernelspec": {
   "display_name": "Python 3",
   "language": "python",
   "name": "python3"
  },
  "language_info": {
   "codemirror_mode": {
    "name": "ipython",
    "version": 3
   },
   "file_extension": ".py",
   "mimetype": "text/x-python",
   "name": "python",
   "nbconvert_exporter": "python",
   "pygments_lexer": "ipython3",
   "version": "3.6.5"
  }
 },
 "nbformat": 4,
 "nbformat_minor": 2
}
