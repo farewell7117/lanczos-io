{
 "cells": [
  {
   "cell_type": "code",
   "execution_count": 4,
   "metadata": {},
   "outputs": [],
   "source": [
    "import numpy as np\n",
    "import matplotlib.pyplot as plt\n",
    "import networkx as nx\n",
    "from scipy import sparse\n",
    "from sklearn.cluster import KMeans\n",
    "import time\n",
    "%matplotlib inline"
   ]
  },
  {
   "cell_type": "markdown",
   "metadata": {},
   "source": [
    "### Main algorithm"
   ]
  },
  {
   "cell_type": "code",
   "execution_count": 49,
   "metadata": {},
   "outputs": [],
   "source": [
    "# 'V_Sigma_V_x' & 'c_Ssq_E_Ssq_x' & 'c_x' are used in a custom matVec product (in a LinearOperator)\n",
    "def V_Sigma_V_x(V_T, Sigma_diag, x, s, use_normalized_L): # V^T * Sigma * V * vec_x\n",
    "    if use_normalized_L:\n",
    "        Sigma_diag = 2.0 - Sigma_diag\n",
    "    else:\n",
    "        Sigma_diag = s - Sigma_diag\n",
    "    return V_T.dot( np.multiply(Sigma_diag, (V_T.T).dot(x) ) )\n",
    "def c_Ssq_E_Ssq_x(s, n, x, use_normalized_L, S_sqrt = None): # c(s,n) * S_squared * eye * S_squared * vec_x\n",
    "    if use_normalized_L:\n",
    "        return 2.0/s * S_sqrt * np.repeat((S_sqrt * x).sum(), len(x))\n",
    "    return np.repeat(s/n * x.sum(), len(x))\n",
    "def c_x(s, x, use_normalized_L):\n",
    "    if use_normalized_L:\n",
    "        return 2.0 * x\n",
    "    else:\n",
    "        return s * x\n",
    "\n",
    "## input:\n",
    "#      W - matrix of weights\n",
    "#      L = S - W - Laplacian matrix\n",
    "#      s = W.sum() - sum of weights\n",
    "#      cnt_V = W.shape[0] - number of vertices\n",
    "#      evals, evecs - already found eigenpairs. evecs are transposed\n",
    "## output\n",
    "#      evals, evecs - expanded eigenpairs\n",
    "def Incremental_IO_step(W, L, s, use_normalized_L, S_sqrt, cnt_V, evals, evecs):\n",
    "    L_perturbed = sparse.linalg.LinearOperator(W.shape, matvec=lambda x, W=W, V=evecs, evals=evals, s=s, n=cnt_V,\n",
    "                                               is_norm=use_normalized_L, S_sqrt=S_sqrt\n",
    "                                               : L.dot(x) + V_Sigma_V_x(V, evals, x, s, is_norm) \n",
    "                                               + c_Ssq_E_Ssq_x(s, n, x, is_norm, S_sqrt) \n",
    "                                               - c_x(s, x ,is_norm))\n",
    "    lead_eval, lead_evec = sparse.linalg.eigsh(L_perturbed, k=1, which='LM')\n",
    "    if use_normalized_L:\n",
    "        evals = np.concatenate((evals, lead_eval + 2.0))\n",
    "    else:\n",
    "        evals = np.concatenate((evals, lead_eval + s))\n",
    "    evecs = np.concatenate((evecs, lead_evec), axis=1)\n",
    "    return evals, evecs\n",
    "\n",
    "## input:\n",
    "#      W - matrix of weights. if all vertices weight 1, it's an adjacency matrix\n",
    "#      K - maximum number of clusters & eigenpairs\n",
    "#      rule_of_stop - function that measure quality of a partition.\n",
    "#          first three arguments should wait for: communities, L, evals\n",
    "#      args_of_rule_of_stop - other arguments of a custom stopping function\n",
    "## output:\n",
    "#      partition: list of vertices' communities IDs \n",
    "#      L - Laplacian matrix\n",
    "#      evals - computed eigenvalues\n",
    "#      evecs - computed eigenvectors\n",
    "def Spectral_Clusterization_IO(W, K, use_normalized_L = False, rule_of_stop = None, *args_of_rule_of_stop):\n",
    "    W = W.astype(np.float64, copy = True)\n",
    "    # normalize W\n",
    "    inv_S_sqrt = np.ravel(1.0/np.sqrt(W.sum(0)))\n",
    "    W = W.multiply(inv_S_sqrt).multiply(inv_S_sqrt.reshape(len(inv_S_sqrt), 1))\n",
    "    \n",
    "    # compute the Laplasian matrix\n",
    "    L = sparse.diags(np.ravel(W.sum(0))).tocsr() - W\n",
    "    S_sqrt = None # used only in the normalized case\n",
    "    if use_normalized_L:\n",
    "        S_sqrt = np.ravel(np.sqrt(W.sum(0)))\n",
    "        inv_S_sqrt = np.ravel(1.0/np.sqrt(W.sum(0)))\n",
    "        L = L.multiply(inv_S_sqrt).multiply(inv_S_sqrt.reshape(len(inv_S_sqrt), 1))        \n",
    "    \n",
    "    cnt_V = W.shape[0]\n",
    "    evals = np.array([0.0])\n",
    "    evecs = np.array([np.zeros(cnt_V, dtype = np.float64)]).T\n",
    "    current_cluster_cnt, s, kmeans_partition, communities = 1, W.sum(), [], []\n",
    "    metrix_during_iters = []\n",
    "    \n",
    "    while current_cluster_cnt <= K:\n",
    "        evals, evecs = Incremental_IO_step(W, L, s, use_normalized_L, S_sqrt, cnt_V, evals, evecs)\n",
    "        current_cluster_cnt += 1\n",
    "        kmeans_partition = KMeans(n_clusters = current_cluster_cnt, random_state=0).fit(evecs).labels_\n",
    "        # create input of a quality function (communities - further rule_of_stop argument)\n",
    "        communities = {i:set() for i in range(current_cluster_cnt)}\n",
    "        for idx, cluster_num in enumerate(kmeans_partition):\n",
    "            communities[cluster_num].add(idx)\n",
    "        communities = list(communities.values())\n",
    "        metrix_during_iters.append(rule_of_stop(communities, L, evals, *args_of_rule_of_stop))\n",
    "    \n",
    "    return kmeans_partition, L, evals, evecs.T, metrix_during_iters"
   ]
  },
  {
   "cell_type": "markdown",
   "metadata": {},
   "source": [
    "### Clustering metrics for user-guided spectral clustering"
   ]
  },
  {
   "cell_type": "code",
   "execution_count": 50,
   "metadata": {},
   "outputs": [],
   "source": [
    "# EXAMPLE of a stopping function: MODULARITY\n",
    "## input:\n",
    "#      threshold - suitable modularity\n",
    "## output\n",
    "#     return False = partition isn't suitable\n",
    "def modularity(communities, L, evals, G):\n",
    "    if communities == []:\n",
    "        return -1\n",
    "    return nx.algorithms.community.quality.modularity(G, communities)\n",
    "\n",
    "# EXAMPLE of a stopping function: SCALED MEDIAN CLUSTER SIZE\n",
    "## input:\n",
    "#      threshold - suitable scaled median cluster size\n",
    "## output\n",
    "#     return False = partition isn't suitable\n",
    "def scaled_median_cluster_size(communities, L, evals):\n",
    "    if communities == []:\n",
    "        return -1\n",
    "    sizes = []\n",
    "    for comm in communities:\n",
    "        sizes.append(len(comm))\n",
    "    return np.median(np.array(sizes)) / sum(sizes)\n",
    "\n",
    "# EXAMPLE of a stopping function: SCALED MAXIMUM CLUSTER SIZE\n",
    "## input:\n",
    "#      threshold - suitable scaled maximum cluster size\n",
    "## output\n",
    "#     return False = partition isn't suitable\n",
    "def scaled_maximum_cluster_size(communities, L, evals):\n",
    "    if communities == []:\n",
    "        return -1\n",
    "    sizes = []\n",
    "    for comm in communities:\n",
    "        sizes.append(len(comm))\n",
    "    return max(sizes) / sum(sizes)\n",
    "\n",
    "# EXAMPLE of a stopping function: SCALED SPECTRUM ENERGY\n",
    "## input:\n",
    "#      threshold - suitable scaled spectrum energy\n",
    "## output\n",
    "#     return False = partition isn't suitable\n",
    "def scaled_spectrum_energy(communities, L, evals):\n",
    "    if communities == []:\n",
    "        return -1\n",
    "    return sum(evals) / sum(L.diagonal())"
   ]
  },
  {
   "cell_type": "code",
   "execution_count": null,
   "metadata": {},
   "outputs": [],
   "source": []
  },
  {
   "cell_type": "code",
   "execution_count": null,
   "metadata": {},
   "outputs": [],
   "source": []
  },
  {
   "cell_type": "markdown",
   "metadata": {},
   "source": [
    "### Examples"
   ]
  },
  {
   "cell_type": "markdown",
   "metadata": {},
   "source": [
    "#### Initial graph"
   ]
  },
  {
   "cell_type": "code",
   "execution_count": 6,
   "metadata": {
    "scrolled": true
   },
   "outputs": [
    {
     "name": "stdout",
     "output_type": "stream",
     "text": [
      "Number of vertices = 4941\n",
      "Number of edges = 6594\n"
     ]
    }
   ],
   "source": [
    "# from the lecture 10\n",
    "kn = nx.read_gml('power.gml')\n",
    "cnt_V = kn.number_of_nodes()\n",
    "print(\"Number of vertices = {}\".format(kn.number_of_nodes()))\n",
    "print(\"Number of edges = {}\".format(kn.number_of_edges()))\n",
    "#nx.draw_networkx(kn) #Draw the graph\n",
    "\n",
    "adj_matrix = nx.adjacency_matrix(kn) # in CSR format\n",
    "adj_matrix = adj_matrix.astype(np.float64, copy = True)"
   ]
  },
  {
   "cell_type": "markdown",
   "metadata": {},
   "source": [
    "## Unnormalized Laplacian Matrix (as in the paper)"
   ]
  },
  {
   "cell_type": "markdown",
   "metadata": {},
   "source": [
    "#### Partition with modularity settings"
   ]
  },
  {
   "cell_type": "code",
   "execution_count": null,
   "metadata": {},
   "outputs": [],
   "source": [
    "cntK = 20\n",
    "kmeans_partition, L, evals, evecs, metrix_during_iters = Spectral_Clusterization_IO(adj_matrix, cntK, \n",
    "                                                                   False, modularity, kn)"
   ]
  },
  {
   "cell_type": "code",
   "execution_count": 48,
   "metadata": {},
   "outputs": [
    {
     "data": {
      "text/plain": [
       "[<matplotlib.lines.Line2D at 0x7fc70e4f49b0>]"
      ]
     },
     "execution_count": 48,
     "metadata": {},
     "output_type": "execute_result"
    },
    {
     "data": {
      "image/png": "[encoded data removed]",
      "text/plain": [
       "<Figure size 360x144 with 1 Axes>"
      ]
     },
     "metadata": {},
     "output_type": "display_data"
    }
   ],
   "source": [
    "fig = plt.figure(figsize=(5, 2))\n",
    "plt.title('Modularity')\n",
    "plt.ylim(0.0, 1.0)\n",
    "plt.ylabel('Modularity')\n",
    "plt.xlabel('# of clusters')\n",
    "plt.xticks(np.arange(1, cntK+1, step = 2))\n",
    "plot = plt.plot(np.linspace(1,cntK,cntK), metrix_during_iters, marker='o', markersize=5)"
   ]
  },
  {
   "cell_type": "markdown",
   "metadata": {},
   "source": [
    "#### Partition with suitable scaled median cluster size"
   ]
  },
  {
   "cell_type": "code",
   "execution_count": 51,
   "metadata": {},
   "outputs": [
    {
     "data": {
      "text/plain": [
       "[<matplotlib.lines.Line2D at 0x7fc70e45ec88>]"
      ]
     },
     "execution_count": 51,
     "metadata": {},
     "output_type": "execute_result"
    },
    {
     "data": {
      "image/png": "[encoded data removed]",
      "text/plain": [
       "<Figure size 360x144 with 1 Axes>"
      ]
     },
     "metadata": {},
     "output_type": "display_data"
    }
   ],
   "source": [
    "kmeans_partition, L, evals, evecs, metrix_during_iters = Spectral_Clusterization_IO(adj_matrix, cntK, \n",
    "                                                               False, scaled_median_cluster_size)\n",
    "fig = plt.figure(figsize=(5, 2))\n",
    "plt.title('Scaled median cluster size')\n",
    "plt.ylim(0.0, 1.0)\n",
    "plt.ylabel('The metrics')\n",
    "plt.xlabel('# of clusters')\n",
    "plt.xticks(np.arange(1, cntK+1, step = 2))\n",
    "plot = plt.plot(np.linspace(1,cntK,cntK), metrix_during_iters, marker='o', markersize=5)"
   ]
  },
  {
   "cell_type": "markdown",
   "metadata": {},
   "source": [
    "#### Partition with suitable scaled maximum cluster size"
   ]
  },
  {
   "cell_type": "code",
   "execution_count": 53,
   "metadata": {},
   "outputs": [
    {
     "data": {
      "image/png": "[encoded data removed]",
      "text/plain": [
       "<Figure size 360x144 with 1 Axes>"
      ]
     },
     "metadata": {},
     "output_type": "display_data"
    }
   ],
   "source": [
    "kmeans_partition, L, evals, evecs, metrix_during_iters = Spectral_Clusterization_IO(adj_matrix, cntK, \n",
    "                                                               False, scaled_maximum_cluster_size)\n",
    "fig = plt.figure(figsize=(5, 2))\n",
    "plt.title('Scaled median cluster size')\n",
    "plt.ylim(0.0, 1.0)\n",
    "plt.ylabel('The metrics')\n",
    "plt.xlabel('# of clusters')\n",
    "plt.xticks(np.arange(1, cntK+1, step = 2))\n",
    "plot = plot = plt.plot(np.linspace(1,cntK,cntK), metrix_during_iters, marker='o', markersize=5)"
   ]
  },
  {
   "cell_type": "markdown",
   "metadata": {},
   "source": [
    "#### Partition with suitable scaled spectrum energy"
   ]
  },
  {
   "cell_type": "code",
   "execution_count": 68,
   "metadata": {},
   "outputs": [
    {
     "data": {
      "image/png": "[encoded data removed]",
      "text/plain": [
       "<Figure size 360x144 with 1 Axes>"
      ]
     },
     "metadata": {},
     "output_type": "display_data"
    }
   ],
   "source": [
    "kmeans_partition, L, evals, evecs, metrix_during_iters = Spectral_Clusterization_IO(adj_matrix, cntK, \n",
    "                                                               False, scaled_spectrum_energy)\n",
    "fig = plt.figure(figsize=(5, 2))\n",
    "plt.title('Scaled median cluster size, $10^{-5}$')\n",
    "plt.ylim(0.0, 1e-5)\n",
    "plt.ylabel('The metrics')\n",
    "plt.xlabel('# of clusters')\n",
    "plt.xticks(np.arange(1, cntK+1, step = 2))\n",
    "plt.yticks(np.linspace(0, 1e-5, 5),['0','0.2','0.4','0.8','1'])\n",
    "plot = plt.plot(np.linspace(1,cntK,cntK), metrix_during_iters, marker='o', markersize=5)"
   ]
  },
  {
   "cell_type": "markdown",
   "metadata": {},
   "source": [
    "### All plots above and plots from the article are exact matched!"
   ]
  },
  {
   "cell_type": "markdown",
   "metadata": {},
   "source": [
    "##### you can compare:"
   ]
  },
  {
   "cell_type": "code",
   "execution_count": 7,
   "metadata": {},
   "outputs": [
    {
     "data": {
      "image/png": "[encoded data removed]",
      "text/plain": [
       "<Figure size 432x288 with 1 Axes>"
      ]
     },
     "metadata": {},
     "output_type": "display_data"
    }
   ],
   "source": [
    "import matplotlib.image as mpimg\n",
    "img=mpimg.imread('screen_from_paper.png')\n",
    "plt.xticks(())\n",
    "plt.yticks(())\n",
    "imgplot = plt.imshow(img)"
   ]
  },
  {
   "cell_type": "code",
   "execution_count": null,
   "metadata": {},
   "outputs": [],
   "source": []
  }
 ],
 "metadata": {
  "kernelspec": {
   "display_name": "Python 3",
   "language": "python",
   "name": "python3"
  },
  "language_info": {
   "codemirror_mode": {
    "name": "ipython",
    "version": 3
   },
   "file_extension": ".py",
   "mimetype": "text/x-python",
   "name": "python",
   "nbconvert_exporter": "python",
   "pygments_lexer": "ipython3",
   "version": "3.6.5"
  }
 },
 "nbformat": 4,
 "nbformat_minor": 2
}
